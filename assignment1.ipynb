{
 "cells": [
  {
   "cell_type": "markdown",
   "id": "459e917b",
   "metadata": {},
   "source": [
    "QNo1."
   ]
  },
  {
   "cell_type": "code",
   "execution_count": 8,
   "id": "a333e707",
   "metadata": {},
   "outputs": [],
   "source": [
    "def proportion_of_education():\n",
    "    import pandas as pd\n",
    "    \n",
    "    df = pd.read_csv('NISPUF17.csv', index_col=0)\n",
    "    \n",
    "    EDUC1 = df['EDUC1'].value_counts(normalize=True)\n",
    "    EDUC1_dict = {\"less than high school\": EDUC1.iloc[3],\n",
    "                   \"high school\": EDUC1.iloc[2],\n",
    "                   \"more than high school but not college\": EDUC1.iloc[1],\n",
    "                   \"college\": EDUC1.iloc[0]}\n",
    "    return EDUC1_dict\n"
   ]
  },
  {
   "cell_type": "code",
   "execution_count": 9,
   "id": "bd627bd3",
   "metadata": {
    "scrolled": false
   },
   "outputs": [],
   "source": [
    "assert type(proportion_of_education())==type({}), \"You must return a dictionary.\"\n",
    "assert len(proportion_of_education()) == 4, \"You have not returned a dictionary with four items in it.\"\n",
    "assert \"less than high school\" in proportion_of_education().keys(), \"You have not returned a dictionary with the correct keys.\"\n",
    "assert \"high school\" in proportion_of_education().keys(), \"You have not returned a dictionary with the correct keys.\"\n",
    "assert \"more than high school but not college\" in proportion_of_education().keys(), \"You have not returned a dictionary with the correct keys.\"\n",
    "assert \"college\" in proportion_of_education().keys(), \"You have not returned a dictionary with the correct keys.\""
   ]
  },
  {
   "cell_type": "markdown",
   "id": "4dd13f1f",
   "metadata": {},
   "source": [
    "Question No 2."
   ]
  },
  {
   "cell_type": "code",
   "execution_count": 10,
   "id": "61463574",
   "metadata": {},
   "outputs": [],
   "source": [
    "def average_influenza_doses():\n",
    "   \n",
    "    import pandas as pd\n",
    "    \n",
    "    df = pd.read_csv('NISPUF17.csv')\n",
    "    \n",
    "    df1 = df[df[\"CBF_01\"] == 1]\n",
    "    df2 = df[df[\"CBF_01\"] == 2]\n",
    "    \n",
    "    return (df1[\"P_NUMFLU\"].mean(), df2[\"P_NUMFLU\"].mean())\n",
    "\n"
   ]
  },
  {
   "cell_type": "code",
   "execution_count": 7,
   "id": "0c438fa5",
   "metadata": {},
   "outputs": [],
   "source": [
    "assert len(average_influenza_doses())==2, \"Return two values in a tuple, the first for yes and the second for no.\""
   ]
  },
  {
   "cell_type": "markdown",
   "id": "774d84a0",
   "metadata": {},
   "source": [
    "Question No 3"
   ]
  },
  {
   "cell_type": "code",
   "execution_count": 12,
   "id": "fe73bf88",
   "metadata": {},
   "outputs": [],
   "source": [
    "def chickenpox_by_sex():\n",
    "    \n",
    "    import pandas as pd\n",
    "    \n",
    "    df = pd.read_csv('NISPUF17.csv')\n",
    "    \n",
    "    df = pd.read_csv('assets/NISPUF17.csv', index_col=0)\n",
    "    df = df[[\"SEX\", \"HAD_CPOX\", \"P_NUMVRC\"]].dropna()\n",
    "    df = df[df[\"P_NUMVRC\"] > 0]\n",
    "    \n",
    "    male_df = df[df[\"SEX\"] == 1]\n",
    "    female_df = df[df[\"SEX\"] == 2]\n",
    "    \n",
    "    female_chickenpox = female_df[(female_df[\"HAD_CPOX\"] == 1) & (female_df[\"P_NUMVRC\"] >= 1)]\n",
    "    female_non_chickenpox = female_df[(female_df[\"HAD_CPOX\"] == 2) & (female_df[\"P_NUMVRC\"] >= 1)]\n",
    "    \n",
    "    male_ratio = len(male_df[male_df[\"HAD_CPOX\"] == 1])/len(male_df[male_df[\"HAD_CPOX\"] == 2])\n",
    "    female_ratio = len(female_df[female_df[\"HAD_CPOX\"] == 1])/len(female_df[female_df[\"HAD_CPOX\"] == 2])\n",
    "    \n",
    "    return {\"male\": male_ratio, \"female\": female_ratio}\n"
   ]
  },
  {
   "cell_type": "code",
   "execution_count": 14,
   "id": "6b6c0832",
   "metadata": {},
   "outputs": [],
   "source": [
    "assert len(chickenpox_by_sex())==2, \"Return a dictionary with two items, the first for males and the second for female\""
   ]
  },
  {
   "cell_type": "markdown",
   "id": "28569888",
   "metadata": {},
   "source": [
    "Question No 4:"
   ]
  },
  {
   "cell_type": "code",
   "execution_count": 15,
   "id": "2ca7ca0e",
   "metadata": {},
   "outputs": [],
   "source": [
    "def corr_chickenpox():\n",
    "    import scipy.stats as stats\n",
    "    import numpy as np\n",
    "    import pandas as pd\n",
    "    \n",
    "    df = pd.read_csv('assets/NISPUF17.csv', index_col=0)\n",
    "    df = df[df[\"HAD_CPOX\"] <= 2]\n",
    "    df = df[~df[\"P_NUMVRC\"].isna() & ~df[\"HAD_CPOX\"].isna()]\n",
    "\n",
    "    # here is some stub code to actually run the correlation\n",
    "    corr, pval=stats.pearsonr(df[\"HAD_CPOX\"], df[\"P_NUMVRC\"])\n",
    "    \n",
    "    # just return the correlation\n",
    "    return corr"
   ]
  },
  {
   "cell_type": "code",
   "execution_count": null,
   "id": "ae66a145",
   "metadata": {},
   "outputs": [],
   "source": [
    "assert -1<=corr_chickenpox()<=1, \"You must return a float number between -1.0 and 1.0.\""
   ]
  }
 ],
 "metadata": {
  "kernelspec": {
   "display_name": "Python 3 (ipykernel)",
   "language": "python",
   "name": "python3"
  },
  "language_info": {
   "codemirror_mode": {
    "name": "ipython",
    "version": 3
   },
   "file_extension": ".py",
   "mimetype": "text/x-python",
   "name": "python",
   "nbconvert_exporter": "python",
   "pygments_lexer": "ipython3",
   "version": "3.11.1"
  }
 },
 "nbformat": 4,
 "nbformat_minor": 5
}
